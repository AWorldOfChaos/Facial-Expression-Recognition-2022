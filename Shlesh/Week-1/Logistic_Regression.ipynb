{
 "cells": [
  {
   "cell_type": "markdown",
   "id": "9d5de758-c1e3-4d38-9e64-fb1f2ab864c1",
   "metadata": {},
   "source": [
    "## Logistic Regression on Diabetes Prediction Dataset"
   ]
  },
  {
   "cell_type": "code",
   "execution_count": null,
   "id": "dd99cc0b-2e26-4c97-9567-dd518b7c064e",
   "metadata": {},
   "outputs": [],
   "source": [
    "import torch\n",
    "import torch.nn as nn\n",
    "import torch.nn.functional as F\n",
    "import matplotlib.pyplot as plt\n",
    "import numpy as np\n",
    "import pandas as pd\n",
    "from sklearn.preprocessing import StandardScaler\n",
    "from sklearn.model_selection import train_test_split\n"
   ]
  },
  {
   "cell_type": "code",
   "execution_count": null,
   "id": "ddd673fa-8917-4232-a9d2-e59319bcc237",
   "metadata": {},
   "outputs": [],
   "source": [
    "df = pd.read_csv('diabetes.csv')\n",
    "X = df.drop(['Outcome' , 'DiabetesPedigreeFunction' , 'Age', 'Pregnancies' ], axis=1)\n",
    "y = df['Outcome']\n",
    "\n",
    "n_features = X.shape[1]\n"
   ]
  },
  {
   "cell_type": "code",
   "execution_count": null,
   "id": "a16e55a8-de28-462c-a148-f0bca9a2a7e7",
   "metadata": {
    "tags": []
   },
   "outputs": [],
   "source": [
    "# Split the data into training and testing sets\n",
    "ts = 0.2 #Test Size\n",
    "X_train, X_test, y_train, y_test = train_test_split(X, y.to_numpy(), test_size = ts)\n",
    "\n",
    "# Scaling is recommended in a classification problem\n",
    "sc = StandardScaler()\n",
    "X_train = sc.fit_transform(X_train)\n",
    "X_test = sc.transform(X_test)\n"
   ]
  },
  {
   "cell_type": "code",
   "execution_count": null,
   "id": "0cc1b2b9-c580-447d-bb9d-bc7f350f4d08",
   "metadata": {
    "tags": []
   },
   "outputs": [],
   "source": [
    "# Convert Dataframes to torch tensors\n",
    "X_train_tensor = torch.tensor(X_train, dtype= torch.float32)\n",
    "X_test_tensor = torch.tensor(X_test, dtype= torch.float32)\n",
    "y_train_tensor = torch.tensor(y_train)\n",
    "y_test_tensor = torch.tensor(y_test)\n",
    "\n",
    "#Reshaping y tensors to coloumn vector/tensor\n",
    "y_train_tensor = y_train_tensor.view(y_train_tensor.shape[0], 1)\n",
    "y_test_tensor = y_test_tensor.view(y_test_tensor.shape[0], 1)\n"
   ]
  },
  {
   "cell_type": "code",
   "execution_count": null,
   "id": "65ca9703-90b1-48d8-92b9-fa648f33903d",
   "metadata": {},
   "outputs": [],
   "source": [
    "# Define logistic regression model by creating \n",
    "class LogisticRegression(nn.Module):\n",
    "    def __init__(self, n_input_features):\n",
    "        super(LogisticRegression, self).__init__()\n",
    "        self.linear = nn.Linear(n_input_features, 1) #There is a 1 which represents the 2nd dimension of features\n",
    "    \n",
    "    def forward(self, x):\n",
    "        x = self.linear(x)\n",
    "        return torch.sigmoid(x)\n",
    "\n",
    "#Instantiate model\n",
    "model = LogisticRegression(n_features)\n"
   ]
  },
  {
   "cell_type": "code",
   "execution_count": null,
   "id": "851aa88b-8f43-4bda-88f0-790c89256dca",
   "metadata": {},
   "outputs": [],
   "source": [
    "# Specify number of interations and learning rate\n",
    "n_iters = 1000\n",
    "learning_rate = 0.03\n",
    "\n",
    "# Define loss function and optimizer\n",
    "loss_fn = nn.BCELoss()\n",
    "optimizer = torch.optim.SGD(model.parameters(), lr=learning_rate)\n"
   ]
  },
  {
   "cell_type": "code",
   "execution_count": null,
   "id": "3e809b1b-32b0-4c28-96ee-dc99f3062579",
   "metadata": {},
   "outputs": [],
   "source": [
    "# Training loop\n",
    "\n",
    "for epoch in range(n_iters):\n",
    "    \n",
    "    # Make predictions and calculate loss\n",
    "    y_pred = model(X_train_tensor)\n",
    "    loss = loss_fn(y_pred, y_train_tensor.float())\n",
    "\n",
    "    # Backward pass and update\n",
    "    loss.backward()\n",
    "    optimizer.step()\n",
    "\n",
    "    # Zero grad before new step\n",
    "    optimizer.zero_grad()\n",
    "\n",
    "    if epoch % 100 == 0:\n",
    "        print(f'epoch: {epoch+1}, loss = {loss.item()}')\n",
    "        "
   ]
  },
  {
   "cell_type": "code",
   "execution_count": null,
   "id": "70e72460-17bf-42da-834a-87f86f7f408a",
   "metadata": {},
   "outputs": [],
   "source": [
    "with torch.no_grad():\n",
    "    y_predicted = model(X_test_tensor)\n",
    "    y_predicted_cls = y_predicted.round()\n",
    "    acc = y_predicted_cls.eq(y_test_tensor).sum() / float(y_test_tensor.shape[0])\n",
    "    print(f'accuracy: {acc.item():.4f}')\n",
    "    "
   ]
  },
  {
   "cell_type": "code",
   "execution_count": null,
   "id": "bb59841b-5c31-48ee-b05f-ffddad8920d0",
   "metadata": {},
   "outputs": [],
   "source": []
  }
 ],
 "metadata": {
  "kernelspec": {
   "display_name": "Python 3 (ipykernel)",
   "language": "python",
   "name": "python3"
  },
  "language_info": {
   "codemirror_mode": {
    "name": "ipython",
    "version": 3
   },
   "file_extension": ".py",
   "mimetype": "text/x-python",
   "name": "python",
   "nbconvert_exporter": "python",
   "pygments_lexer": "ipython3",
   "version": "3.9.7"
  }
 },
 "nbformat": 4,
 "nbformat_minor": 5
}
