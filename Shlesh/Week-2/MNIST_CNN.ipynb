{
 "cells": [
  {
   "cell_type": "code",
   "execution_count": 2,
   "id": "b9430794-f74e-4c21-a3d2-3806bceb9e92",
   "metadata": {},
   "outputs": [],
   "source": [
    "import torch, torchvision\n",
    "from torch import nn\n",
    "from torch import optim\n",
    "from torchvision.transforms import ToTensor\n",
    "import torch.nn.functional as F\n",
    "import matplotlib.pyplot as plt\n",
    "import requests\n",
    "from PIL import Image\n",
    "from io import BytesIO\n",
    "import copy\n",
    "from sklearn.metrics import confusion_matrix\n",
    "import pandas as pd\n",
    "import numpy as np\n"
   ]
  },
  {
   "cell_type": "code",
   "execution_count": 3,
   "id": "15038d79-7fa1-4fec-85e7-1d845957816a",
   "metadata": {},
   "outputs": [
    {
     "name": "stdout",
     "output_type": "stream",
     "text": [
      "Downloading http://yann.lecun.com/exdb/mnist/train-images-idx3-ubyte.gz\n",
      "Downloading http://yann.lecun.com/exdb/mnist/train-images-idx3-ubyte.gz to mnist_data\\MNIST\\raw\\train-images-idx3-ubyte.gz\n"
     ]
    },
    {
     "data": {
      "application/vnd.jupyter.widget-view+json": {
       "model_id": "f6716ff25cb64238bc2892913f657a2d",
       "version_major": 2,
       "version_minor": 0
      },
      "text/plain": [
       "  0%|          | 0/9912422 [00:00<?, ?it/s]"
      ]
     },
     "metadata": {},
     "output_type": "display_data"
    },
    {
     "name": "stdout",
     "output_type": "stream",
     "text": [
      "Extracting mnist_data\\MNIST\\raw\\train-images-idx3-ubyte.gz to mnist_data\\MNIST\\raw\n",
      "\n",
      "Downloading http://yann.lecun.com/exdb/mnist/train-labels-idx1-ubyte.gz\n",
      "Downloading http://yann.lecun.com/exdb/mnist/train-labels-idx1-ubyte.gz to mnist_data\\MNIST\\raw\\train-labels-idx1-ubyte.gz\n"
     ]
    },
    {
     "data": {
      "application/vnd.jupyter.widget-view+json": {
       "model_id": "0f05699392674e7aa87b30495dc15793",
       "version_major": 2,
       "version_minor": 0
      },
      "text/plain": [
       "  0%|          | 0/28881 [00:00<?, ?it/s]"
      ]
     },
     "metadata": {},
     "output_type": "display_data"
    },
    {
     "name": "stdout",
     "output_type": "stream",
     "text": [
      "Extracting mnist_data\\MNIST\\raw\\train-labels-idx1-ubyte.gz to mnist_data\\MNIST\\raw\n",
      "\n",
      "Downloading http://yann.lecun.com/exdb/mnist/t10k-images-idx3-ubyte.gz\n",
      "Downloading http://yann.lecun.com/exdb/mnist/t10k-images-idx3-ubyte.gz to mnist_data\\MNIST\\raw\\t10k-images-idx3-ubyte.gz\n"
     ]
    },
    {
     "data": {
      "application/vnd.jupyter.widget-view+json": {
       "model_id": "97075bdcfdbd47a981aa99c28e3b6dba",
       "version_major": 2,
       "version_minor": 0
      },
      "text/plain": [
       "  0%|          | 0/1648877 [00:00<?, ?it/s]"
      ]
     },
     "metadata": {},
     "output_type": "display_data"
    },
    {
     "name": "stdout",
     "output_type": "stream",
     "text": [
      "Extracting mnist_data\\MNIST\\raw\\t10k-images-idx3-ubyte.gz to mnist_data\\MNIST\\raw\n",
      "\n",
      "Downloading http://yann.lecun.com/exdb/mnist/t10k-labels-idx1-ubyte.gz\n",
      "Downloading http://yann.lecun.com/exdb/mnist/t10k-labels-idx1-ubyte.gz to mnist_data\\MNIST\\raw\\t10k-labels-idx1-ubyte.gz\n"
     ]
    },
    {
     "data": {
      "application/vnd.jupyter.widget-view+json": {
       "model_id": "98508707db48434f8ac6b4a04039353b",
       "version_major": 2,
       "version_minor": 0
      },
      "text/plain": [
       "  0%|          | 0/4542 [00:00<?, ?it/s]"
      ]
     },
     "metadata": {},
     "output_type": "display_data"
    },
    {
     "name": "stdout",
     "output_type": "stream",
     "text": [
      "Extracting mnist_data\\MNIST\\raw\\t10k-labels-idx1-ubyte.gz to mnist_data\\MNIST\\raw\n",
      "\n"
     ]
    }
   ],
   "source": [
    "numb_batch = 64\n",
    "\n",
    "T = torchvision.transforms.Compose([torchvision.transforms.ToTensor()])\n",
    "\n",
    "train_data = torchvision.datasets.MNIST('mnist_data', train=True, download=True, transform=T)\n",
    "val_data = torchvision.datasets.MNIST('mnist_data', train=False, download=True, transform=T)\n",
    "\n",
    "train_dl = torch.utils.data.DataLoader(train_data, batch_size = numb_batch)\n",
    "val_dl = torch.utils.data.DataLoader(val_data, batch_size = numb_batch)\n"
   ]
  },
  {
   "cell_type": "code",
   "execution_count": 4,
   "id": "c7eeb98e-2ca0-4e35-b297-d9b9ad04c604",
   "metadata": {},
   "outputs": [],
   "source": [
    "def create_lenet():\n",
    "    model = nn.Sequential(\n",
    "                            nn.Conv2d(1, 6, 5, padding=2),\n",
    "                            nn.ReLU(),\n",
    "                            nn.AvgPool2d(2, stride=2),\n",
    "                            nn.Conv2d(6, 16, 5, padding=0),\n",
    "                            nn.ReLU(),\n",
    "                            nn.AvgPool2d(2, stride=2),\n",
    "                            nn.Flatten(),\n",
    "                            nn.Linear(400, 120),\n",
    "                            nn.ReLU(),\n",
    "                            nn.Linear(120, 84),\n",
    "                            nn.ReLU(),\n",
    "                            nn.Linear(84, 10)\n",
    "                        )\n",
    "    return model"
   ]
  },
  {
   "cell_type": "code",
   "execution_count": 5,
   "id": "9659332f-2264-4899-90ca-ee7aabc9d4e5",
   "metadata": {},
   "outputs": [],
   "source": [
    "def validate(model, data):\n",
    "    total = 0\n",
    "    correct = 0\n",
    "    for i, (images, labels) in enumerate(data):\n",
    "        images = images.cuda()\n",
    "        x = model(images)\n",
    "        value, pred = torch.max(x,1)\n",
    "        pred = pred.data.cpu()\n",
    "        total += x.size(0)\n",
    "        correct += torch.sum(pred == labels)\n",
    "    return correct*100./total\n"
   ]
  },
  {
   "cell_type": "code",
   "execution_count": 6,
   "id": "e9fb18e5-ec38-4682-91ce-2e497cd26c21",
   "metadata": {},
   "outputs": [],
   "source": [
    "def train(numb_epoch=3, lr=1e-3, device=\"cpu\"):\n",
    "    accuracies = []\n",
    "    cnn = create_lenet().to(device)\n",
    "    cec = nn.CrossEntropyLoss()\n",
    "    optimizer = optim.Adam(cnn.parameters(), lr=lr)\n",
    "    max_accuracy = 0\n",
    "    for epoch in range(numb_epoch):\n",
    "        for i, (images, labels) in enumerate(train_dl):\n",
    "            images = images.to(device)\n",
    "            labels = labels.to(device)\n",
    "            optimizer.zero_grad()\n",
    "            pred = cnn(images)\n",
    "            loss = cec(pred, labels)\n",
    "            loss.backward()\n",
    "            optimizer.step()\n",
    "        accuracy = float(validate(cnn, val_dl))\n",
    "        accuracies.append(accuracy)\n",
    "        if accuracy > max_accuracy:\n",
    "            best_model = copy.deepcopy(cnn)\n",
    "            max_accuracy = accuracy\n",
    "            print(\"Saving Best Model with Accuracy: \", accuracy)\n",
    "        print('Epoch:', epoch+1, \"Accuracy :\", accuracy, '%')\n",
    "    plt.plot(accuracies)\n",
    "    return best_model\n"
   ]
  },
  {
   "cell_type": "code",
   "execution_count": 7,
   "id": "d92de780-ef44-4d6b-be84-073ad45b803e",
   "metadata": {},
   "outputs": [
    {
     "data": {
      "text/plain": [
       "device(type='cuda', index=0)"
      ]
     },
     "execution_count": 7,
     "metadata": {},
     "output_type": "execute_result"
    }
   ],
   "source": [
    "if torch.cuda.is_available():\n",
    "    device = torch.device(\"cuda:0\")\n",
    "else:\n",
    "    device = torch.device(\"cpu\")\n",
    "    print(\"No Cuda Available\")\n",
    "device\n"
   ]
  },
  {
   "cell_type": "code",
   "execution_count": 8,
   "id": "d33bcd34-20ae-4b60-ba14-1d4afde8f7fd",
   "metadata": {},
   "outputs": [
    {
     "name": "stdout",
     "output_type": "stream",
     "text": [
      "Saving Best Model with Accuracy:  95.45999908447266\n",
      "Epoch: 1 Accuracy : 95.45999908447266 %\n",
      "Saving Best Model with Accuracy:  96.20999908447266\n",
      "Epoch: 2 Accuracy : 96.20999908447266 %\n",
      "Saving Best Model with Accuracy:  97.75\n",
      "Epoch: 3 Accuracy : 97.75 %\n",
      "Saving Best Model with Accuracy:  98.22000122070312\n",
      "Epoch: 4 Accuracy : 98.22000122070312 %\n",
      "Saving Best Model with Accuracy:  98.48999786376953\n",
      "Epoch: 5 Accuracy : 98.48999786376953 %\n",
      "Saving Best Model with Accuracy:  98.61000061035156\n",
      "Epoch: 6 Accuracy : 98.61000061035156 %\n",
      "Saving Best Model with Accuracy:  98.73999786376953\n",
      "Epoch: 7 Accuracy : 98.73999786376953 %\n",
      "Epoch: 8 Accuracy : 98.55000305175781 %\n",
      "Epoch: 9 Accuracy : 98.7300033569336 %\n",
      "Epoch: 10 Accuracy : 98.58000183105469 %\n",
      "Saving Best Model with Accuracy:  98.80999755859375\n",
      "Epoch: 11 Accuracy : 98.80999755859375 %\n",
      "Epoch: 12 Accuracy : 98.69000244140625 %\n",
      "Epoch: 13 Accuracy : 98.69000244140625 %\n",
      "Epoch: 14 Accuracy : 98.66999816894531 %\n",
      "Saving Best Model with Accuracy:  98.87999725341797\n",
      "Epoch: 15 Accuracy : 98.87999725341797 %\n",
      "Epoch: 16 Accuracy : 98.8499984741211 %\n",
      "Epoch: 17 Accuracy : 98.76000213623047 %\n",
      "Epoch: 18 Accuracy : 98.69000244140625 %\n",
      "Epoch: 19 Accuracy : 98.83000183105469 %\n",
      "Epoch: 20 Accuracy : 98.76000213623047 %\n",
      "Epoch: 21 Accuracy : 98.72000122070312 %\n",
      "Saving Best Model with Accuracy:  98.94000244140625\n",
      "Epoch: 22 Accuracy : 98.94000244140625 %\n",
      "Saving Best Model with Accuracy:  98.95999908447266\n",
      "Epoch: 23 Accuracy : 98.95999908447266 %\n",
      "Epoch: 24 Accuracy : 98.87999725341797 %\n",
      "Epoch: 25 Accuracy : 98.88999938964844 %\n",
      "Epoch: 26 Accuracy : 98.86000061035156 %\n",
      "Epoch: 27 Accuracy : 98.80999755859375 %\n",
      "Epoch: 28 Accuracy : 98.63999938964844 %\n",
      "Epoch: 29 Accuracy : 98.87000274658203 %\n",
      "Epoch: 30 Accuracy : 98.91000366210938 %\n",
      "Epoch: 31 Accuracy : 98.8499984741211 %\n",
      "Saving Best Model with Accuracy:  99.0\n",
      "Epoch: 32 Accuracy : 99.0 %\n",
      "Epoch: 33 Accuracy : 98.73999786376953 %\n",
      "Saving Best Model with Accuracy:  99.01000213623047\n",
      "Epoch: 34 Accuracy : 99.01000213623047 %\n",
      "Epoch: 35 Accuracy : 98.94999694824219 %\n",
      "Epoch: 36 Accuracy : 98.97000122070312 %\n",
      "Saving Best Model with Accuracy:  99.02999877929688\n",
      "Epoch: 37 Accuracy : 99.02999877929688 %\n",
      "Epoch: 38 Accuracy : 98.70999908447266 %\n",
      "Epoch: 39 Accuracy : 98.94999694824219 %\n",
      "Epoch: 40 Accuracy : 98.91000366210938 %\n"
     ]
    },
    {
     "data": {
      "image/png": "[encoded data removed]",
      "text/plain": [
       "<Figure size 640x480 with 1 Axes>"
      ]
     },
     "metadata": {},
     "output_type": "display_data"
    }
   ],
   "source": [
    "lenet = train(40, device=device)\n"
   ]
  },
  {
   "cell_type": "code",
   "execution_count": 9,
   "id": "a5e624d0-30a6-4bc9-96b5-f57416e201a8",
   "metadata": {},
   "outputs": [],
   "source": [
    "def predict_dl(model, data):\n",
    "    y_pred = []\n",
    "    y_true = []\n",
    "    for i, (images, labels) in enumerate(data):\n",
    "        images = images.cuda()\n",
    "        x = model(images)\n",
    "        value, pred = torch.max(x, 1)\n",
    "        pred = pred.data.cpu()\n",
    "        y_pred.extend(list(pred.numpy()))\n",
    "        y_true.extend(list(labels.numpy()))\n",
    "    return np.array(y_pred), np.array(y_true)\n",
    "\n",
    "y_pred, y_true = predict_dl(lenet, val_dl)\n"
   ]
  },
  {
   "cell_type": "code",
   "execution_count": null,
   "id": "8ffaf2f1-878a-4420-96b4-6a52da6f3c9f",
   "metadata": {},
   "outputs": [],
   "source": []
  }
 ],
 "metadata": {
  "kernelspec": {
   "display_name": "Python 3 (ipykernel)",
   "language": "python",
   "name": "python3"
  },
  "language_info": {
   "codemirror_mode": {
    "name": "ipython",
    "version": 3
   },
   "file_extension": ".py",
   "mimetype": "text/x-python",
   "name": "python",
   "nbconvert_exporter": "python",
   "pygments_lexer": "ipython3",
   "version": "3.9.7"
  }
 },
 "nbformat": 4,
 "nbformat_minor": 5
}
