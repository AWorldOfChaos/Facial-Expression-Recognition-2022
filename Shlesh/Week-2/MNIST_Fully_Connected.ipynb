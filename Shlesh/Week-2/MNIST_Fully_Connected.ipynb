{
 "cells": [
  {
   "cell_type": "code",
   "execution_count": 1,
   "id": "3b33aea7-a927-4044-b6bf-ba36e3a3bcaa",
   "metadata": {},
   "outputs": [],
   "source": [
    "import torch\n",
    "import torchvision\n",
    "from torchvision import transforms, datasets\n",
    "import torch.nn as nn\n",
    "import torch.nn.functional as F\n",
    "import matplotlib.pyplot as plt\n"
   ]
  },
  {
   "cell_type": "code",
   "execution_count": 2,
   "id": "9d7d5c20-225b-49df-af0c-5b98e75768ae",
   "metadata": {},
   "outputs": [
    {
     "name": "stdout",
     "output_type": "stream",
     "text": [
      "Running on the GPU\n"
     ]
    }
   ],
   "source": [
    "if torch.cuda.is_available():\n",
    "    device = torch.device(\"cuda:0\")  # you can continue going on here, like cuda:1 cuda:2....etc. \n",
    "    print(\"Running on the GPU\")\n",
    "else:\n",
    "    device = torch.device(\"cpu\")\n",
    "    print(\"Running on the CPU\")\n",
    "    "
   ]
  },
  {
   "cell_type": "code",
   "execution_count": 3,
   "id": "9eeb0c1c-37f1-495a-bd39-9fcff76ef2a9",
   "metadata": {},
   "outputs": [],
   "source": [
    "# MNIST Dataset\n",
    "trainset = datasets.MNIST('', train=True, download=True,\n",
    "                       transform=transforms.Compose([\n",
    "                           transforms.ToTensor()\n",
    "                       ]))\n",
    "\n",
    "testset = datasets.MNIST('', train=False, download=True,\n",
    "                       transform=transforms.Compose([\n",
    "                           transforms.ToTensor()\n",
    "                       ]))\n",
    "\n",
    "batch_size = 100\n",
    "\n",
    "train_dataloader = torch.utils.data.DataLoader(trainset, batch_size=batch_size, shuffle=True)\n",
    "testset_dataloader = torch.utils.data.DataLoader(testset, batch_size=batch_size, shuffle=False)\n"
   ]
  },
  {
   "cell_type": "code",
   "execution_count": 4,
   "id": "f2fee9bb-a155-4b65-9235-e3bc5a85af35",
   "metadata": {},
   "outputs": [
    {
     "data": {
      "image/png": "[encoded data removed]",
      "text/plain": [
       "<Figure size 640x480 with 15 Axes>"
      ]
     },
     "metadata": {},
     "output_type": "display_data"
    }
   ],
   "source": [
    "# Ploting \n",
    "example_iterator = iter(testset_dataloader)\n",
    "example_data, example_targets = next(example_iterator)\n",
    "\n",
    "\n",
    "for i in range(15):\n",
    "    plt.subplot(3,5,i+1)\n",
    "    plt.imshow(example_data[i][0])\n",
    "plt.show()\n"
   ]
  },
  {
   "cell_type": "code",
   "execution_count": 5,
   "id": "2db9685e-97de-49f2-ae92-27a608e6e0f9",
   "metadata": {},
   "outputs": [],
   "source": [
    "# Hyper-parameters \n",
    "input_size = 784 # 28x28\n",
    "num_classes = 10\n",
    "num_epochs = 10\n",
    "learning_rate = 0.001\n"
   ]
  },
  {
   "cell_type": "code",
   "execution_count": 6,
   "id": "9e83e476-939c-47ba-8de7-6923647edc5d",
   "metadata": {},
   "outputs": [],
   "source": [
    "# Fully connected neural network model\n",
    "class NeuralNet(nn.Module):\n",
    "    \n",
    "    def __init__(self, input_size, num_classes):\n",
    "        super().__init__()\n",
    "        self.fc1 = nn.Linear(input_size, 64)\n",
    "        self.fc2 = nn.Linear(64, 64)\n",
    "        self.fc3 = nn.Linear(64, 64)\n",
    "        self.fc4 = nn.Linear(64, num_classes)\n",
    "\n",
    "    def forward(self, x):\n",
    "        out = F.relu(self.fc1(x))\n",
    "        out = F.relu(self.fc2(out))\n",
    "        out = F.relu(self.fc3(out))\n",
    "        out = self.fc4(out)\n",
    "        return out\n",
    "    # No activation and no softmax at the end because we are going to use CrossEntropyLoss\n",
    "    \n",
    "model = NeuralNet(input_size, num_classes).to(device)\n"
   ]
  },
  {
   "cell_type": "code",
   "execution_count": 7,
   "id": "0d272e34-452b-4144-8ed3-ca8975444305",
   "metadata": {},
   "outputs": [],
   "source": [
    "# Loss and optimizer\n",
    "criterion = nn.CrossEntropyLoss()\n",
    "optimizer = torch.optim.Adam(model.parameters(), lr=learning_rate)  \n"
   ]
  },
  {
   "cell_type": "code",
   "execution_count": 8,
   "id": "954a3d28-994e-4591-b5e6-8d1ceedbe9c7",
   "metadata": {},
   "outputs": [
    {
     "name": "stdout",
     "output_type": "stream",
     "text": [
      "Epoch [1/10], Step [100/600], Loss: 0.5908\n",
      "Epoch [1/10], Step [200/600], Loss: 0.3742\n",
      "Epoch [1/10], Step [300/600], Loss: 0.3120\n",
      "Epoch [1/10], Step [400/600], Loss: 0.2289\n",
      "Epoch [1/10], Step [500/600], Loss: 0.2784\n",
      "Epoch [1/10], Step [600/600], Loss: 0.3055\n",
      "Epoch [2/10], Step [100/600], Loss: 0.1568\n",
      "Epoch [2/10], Step [200/600], Loss: 0.1321\n",
      "Epoch [2/10], Step [300/600], Loss: 0.1887\n",
      "Epoch [2/10], Step [400/600], Loss: 0.1636\n",
      "Epoch [2/10], Step [500/600], Loss: 0.2073\n",
      "Epoch [2/10], Step [600/600], Loss: 0.1808\n",
      "Epoch [3/10], Step [100/600], Loss: 0.1334\n",
      "Epoch [3/10], Step [200/600], Loss: 0.1647\n",
      "Epoch [3/10], Step [300/600], Loss: 0.2008\n",
      "Epoch [3/10], Step [400/600], Loss: 0.0634\n",
      "Epoch [3/10], Step [500/600], Loss: 0.1188\n",
      "Epoch [3/10], Step [600/600], Loss: 0.0461\n",
      "Epoch [4/10], Step [100/600], Loss: 0.0924\n",
      "Epoch [4/10], Step [200/600], Loss: 0.1521\n",
      "Epoch [4/10], Step [300/600], Loss: 0.1149\n",
      "Epoch [4/10], Step [400/600], Loss: 0.1418\n",
      "Epoch [4/10], Step [500/600], Loss: 0.0588\n",
      "Epoch [4/10], Step [600/600], Loss: 0.0689\n",
      "Epoch [5/10], Step [100/600], Loss: 0.0703\n",
      "Epoch [5/10], Step [200/600], Loss: 0.1113\n",
      "Epoch [5/10], Step [300/600], Loss: 0.1859\n",
      "Epoch [5/10], Step [400/600], Loss: 0.1389\n",
      "Epoch [5/10], Step [500/600], Loss: 0.0800\n",
      "Epoch [5/10], Step [600/600], Loss: 0.0776\n",
      "Epoch [6/10], Step [100/600], Loss: 0.0426\n",
      "Epoch [6/10], Step [200/600], Loss: 0.0647\n",
      "Epoch [6/10], Step [300/600], Loss: 0.0795\n",
      "Epoch [6/10], Step [400/600], Loss: 0.0361\n",
      "Epoch [6/10], Step [500/600], Loss: 0.0815\n",
      "Epoch [6/10], Step [600/600], Loss: 0.0224\n",
      "Epoch [7/10], Step [100/600], Loss: 0.0419\n",
      "Epoch [7/10], Step [200/600], Loss: 0.0872\n",
      "Epoch [7/10], Step [300/600], Loss: 0.1226\n",
      "Epoch [7/10], Step [400/600], Loss: 0.0809\n",
      "Epoch [7/10], Step [500/600], Loss: 0.0713\n",
      "Epoch [7/10], Step [600/600], Loss: 0.1133\n",
      "Epoch [8/10], Step [100/600], Loss: 0.0568\n",
      "Epoch [8/10], Step [200/600], Loss: 0.0892\n",
      "Epoch [8/10], Step [300/600], Loss: 0.0296\n",
      "Epoch [8/10], Step [400/600], Loss: 0.1056\n",
      "Epoch [8/10], Step [500/600], Loss: 0.0118\n",
      "Epoch [8/10], Step [600/600], Loss: 0.0675\n",
      "Epoch [9/10], Step [100/600], Loss: 0.0966\n",
      "Epoch [9/10], Step [200/600], Loss: 0.0794\n",
      "Epoch [9/10], Step [300/600], Loss: 0.0751\n",
      "Epoch [9/10], Step [400/600], Loss: 0.1337\n",
      "Epoch [9/10], Step [500/600], Loss: 0.0576\n",
      "Epoch [9/10], Step [600/600], Loss: 0.0118\n",
      "Epoch [10/10], Step [100/600], Loss: 0.1008\n",
      "Epoch [10/10], Step [200/600], Loss: 0.0563\n",
      "Epoch [10/10], Step [300/600], Loss: 0.0857\n",
      "Epoch [10/10], Step [400/600], Loss: 0.1075\n",
      "Epoch [10/10], Step [500/600], Loss: 0.0167\n",
      "Epoch [10/10], Step [600/600], Loss: 0.0707\n"
     ]
    }
   ],
   "source": [
    "# Train the model\n",
    "n_total_steps = len(train_dataloader)\n",
    "\n",
    "for epoch in range(num_epochs):\n",
    "    \n",
    "    for i, (images, labels) in enumerate(train_dataloader):\n",
    "        \n",
    "        # origin shape: [100, 1, 28, 28] , but model doesn't take it as input\n",
    "        # resized: [100, 784]\n",
    "        images = images.reshape(-1, 28*28).to(device)\n",
    "        labels = labels.to(device)\n",
    "        \n",
    "        # Forward pass\n",
    "        outputs = model(images)\n",
    "        loss = criterion(outputs, labels)\n",
    "        \n",
    "        # Backward and optimize\n",
    "        optimizer.zero_grad()\n",
    "        loss.backward()\n",
    "        optimizer.step()\n",
    "        \n",
    "        if (i+1) % 100 == 0:\n",
    "            print (f'Epoch [{epoch+1}/{num_epochs}], Step [{i+1}/{n_total_steps}], Loss: {loss.item():.4f}')\n"
   ]
  },
  {
   "cell_type": "code",
   "execution_count": 9,
   "id": "2093e5c7-102b-433e-87d8-e2304d337b49",
   "metadata": {},
   "outputs": [
    {
     "name": "stdout",
     "output_type": "stream",
     "text": [
      "Accuracy of the network : 97.09 %\n"
     ]
    }
   ],
   "source": [
    "# Test the model\n",
    "with torch.no_grad():\n",
    "    \n",
    "    n_correct = 0\n",
    "    n_samples = 0\n",
    "    \n",
    "    for images, labels in testset_dataloader:\n",
    "        \n",
    "        images = images.reshape(-1, 28*28).to(device)\n",
    "        labels = labels.to(device)\n",
    "        outputs = model(images)\n",
    "        \n",
    "        # max returns (value ,index)\n",
    "        _, predicted = torch.max(outputs.data, 1)\n",
    "        n_samples += labels.size(0)\n",
    "        n_correct += (predicted == labels).sum().item()\n",
    "\n",
    "    acc = 100.0 * n_correct / n_samples\n",
    "    print(f'Accuracy of the network : {acc} %')\n",
    "    "
   ]
  },
  {
   "cell_type": "code",
   "execution_count": null,
   "id": "ebc0df45-0f17-462a-895c-f6d605eda6d7",
   "metadata": {},
   "outputs": [],
   "source": []
  }
 ],
 "metadata": {
  "kernelspec": {
   "display_name": "Python 3 (ipykernel)",
   "language": "python",
   "name": "python3"
  },
  "language_info": {
   "codemirror_mode": {
    "name": "ipython",
    "version": 3
   },
   "file_extension": ".py",
   "mimetype": "text/x-python",
   "name": "python",
   "nbconvert_exporter": "python",
   "pygments_lexer": "ipython3",
   "version": "3.9.7"
  }
 },
 "nbformat": 4,
 "nbformat_minor": 5
}
