{
 "cells": [
  {
   "cell_type": "code",
   "execution_count": 26,
   "metadata": {},
   "outputs": [],
   "source": [
    "import os\n",
    "import numpy as np\n",
    "import tensorflow as tf\n",
    "import pandas as pd\n",
    "import matplotlib.pyplot as plt\n",
    "from sklearn.model_selection import train_test_split"
   ]
  },
  {
   "cell_type": "code",
   "execution_count": 27,
   "metadata": {},
   "outputs": [],
   "source": [
    "#Data wala kaam\n",
    "dataframe = pd.read_csv('fer2013/fer2013.csv')\n",
    "\n",
    "emo_dict = {0:'anger', 1:'disgust', 2:'fear', 3:'happiness', 4: 'sadness', 5: 'surprise', 6: 'neutral'}\n",
    "\n",
    "imgarr = dataframe.pixels.apply(lambda x: np.array(x.split(' ')).reshape(48,48,1).astype('float32'))\n",
    "\n",
    "imgarr = np.stack(imgarr, axis = 0)\n",
    "\n",
    "imgarr = imgarr/255\n",
    "\n",
    "labels = dataframe.emotion.values\n",
    "\n",
    "imgTrain, imgTest, emoTrain,  emoTest = train_test_split(imgarr, labels, test_size = 0.2)\n"
   ]
  },
  {
   "cell_type": "code",
   "execution_count": 28,
   "metadata": {},
   "outputs": [],
   "source": [
    "mymodel = tf.keras.models.Sequential([\n",
    "    tf.keras.layers.Conv2D(32,(3,3),activation='relu',input_shape=(48,48,1)),\n",
    "    tf.keras.layers.MaxPool2D(2,2),\n",
    "    tf.keras.layers.BatchNormalization(),\n",
    "\n",
    "    tf.keras.layers.Conv2D(64,(3,3),activation='relu',input_shape=(48,48,1)),\n",
    "    tf.keras.layers.MaxPool2D(2,2),\n",
    "    tf.keras.layers.BatchNormalization(),\n",
    "\n",
    "    tf.keras.layers.Conv2D(128,(3,3),activation='relu',input_shape=(48,48,1)),\n",
    "    tf.keras.layers.MaxPool2D(2,2),\n",
    "    tf.keras.layers.BatchNormalization(),\n",
    "\n",
    "    tf.keras.layers.Flatten(),\n",
    "    tf.keras.layers.Dense(128, activation='relu'),\n",
    "    tf.keras.layers.Dense(7,activation ='softmax')\n",
    "])\n",
    "\n",
    "mymodel.compile(optimizer=tf.keras.optimizers.RMSprop(learning_rate=0.001), loss = 'sparse_categorical_crossentropy', metrics=['accuracy'])"
   ]
  },
  {
   "cell_type": "code",
   "execution_count": 29,
   "metadata": {},
   "outputs": [],
   "source": [
    "fname = 'best.h5'\n",
    "path = 'checkpoint/best.h5'\n",
    "\n",
    "call_back = tf.keras.callbacks.ModelCheckpoint(\n",
    "    filepath=path,\n",
    "    monitor= 'val_accuracy',\n",
    "    verbose= 1,\n",
    "    save_freq='epoch',\n",
    "    save_best_only=True,\n",
    "    save_weights_only=False,\n",
    "    mode = 'max')\n"
   ]
  },
  {
   "cell_type": "code",
   "execution_count": 31,
   "metadata": {},
   "outputs": [
    {
     "name": "stdout",
     "output_type": "stream",
     "text": [
      "Epoch 1/50\n",
      "807/808 [============================>.] - ETA: 0s - loss: 1.0569 - accuracy: 0.6063\n",
      "Epoch 1: val_accuracy improved from 0.47719 to 0.49808, saving model to checkpoint/best.h5\n",
      "808/808 [==============================] - 40s 49ms/step - loss: 1.0569 - accuracy: 0.6063 - val_loss: 1.3768 - val_accuracy: 0.4981\n",
      "Epoch 2/50\n",
      "807/808 [============================>.] - ETA: 0s - loss: 0.8843 - accuracy: 0.6700\n",
      "Epoch 2: val_accuracy did not improve from 0.49808\n",
      "808/808 [==============================] - 39s 48ms/step - loss: 0.8846 - accuracy: 0.6698 - val_loss: 1.4909 - val_accuracy: 0.4601\n",
      "Epoch 3/50\n",
      "807/808 [============================>.] - ETA: 0s - loss: 0.7250 - accuracy: 0.7355\n",
      "Epoch 3: val_accuracy did not improve from 0.49808\n",
      "808/808 [==============================] - 36s 45ms/step - loss: 0.7250 - accuracy: 0.7355 - val_loss: 1.5179 - val_accuracy: 0.4918\n",
      "Epoch 4/50\n",
      "807/808 [============================>.] - ETA: 0s - loss: 0.5745 - accuracy: 0.7922\n",
      "Epoch 4: val_accuracy improved from 0.49808 to 0.54232, saving model to checkpoint/best.h5\n",
      "808/808 [==============================] - 37s 46ms/step - loss: 0.5745 - accuracy: 0.7923 - val_loss: 1.5286 - val_accuracy: 0.5423\n",
      "Epoch 5/50\n",
      "808/808 [==============================] - ETA: 0s - loss: 0.4506 - accuracy: 0.8375\n",
      "Epoch 5: val_accuracy improved from 0.54232 to 0.54894, saving model to checkpoint/best.h5\n",
      "808/808 [==============================] - 37s 46ms/step - loss: 0.4506 - accuracy: 0.8375 - val_loss: 1.7449 - val_accuracy: 0.5489\n",
      "Epoch 6/50\n",
      "807/808 [============================>.] - ETA: 0s - loss: 0.3531 - accuracy: 0.8741\n",
      "Epoch 6: val_accuracy did not improve from 0.54894\n",
      "808/808 [==============================] - 37s 46ms/step - loss: 0.3532 - accuracy: 0.8741 - val_loss: 1.7919 - val_accuracy: 0.5367\n",
      "Epoch 7/50\n",
      "807/808 [============================>.] - ETA: 0s - loss: 0.2815 - accuracy: 0.8983\n",
      "Epoch 7: val_accuracy did not improve from 0.54894\n",
      "808/808 [==============================] - 37s 46ms/step - loss: 0.2816 - accuracy: 0.8983 - val_loss: 2.6388 - val_accuracy: 0.4932\n",
      "Epoch 8/50\n",
      "807/808 [============================>.] - ETA: 0s - loss: 0.2293 - accuracy: 0.9195\n",
      "Epoch 8: val_accuracy improved from 0.54894 to 0.54963, saving model to checkpoint/best.h5\n",
      "808/808 [==============================] - 39s 48ms/step - loss: 0.2292 - accuracy: 0.9195 - val_loss: 2.4524 - val_accuracy: 0.5496\n",
      "Epoch 9/50\n",
      "807/808 [============================>.] - ETA: 0s - loss: 0.1981 - accuracy: 0.9324\n",
      "Epoch 9: val_accuracy improved from 0.54963 to 0.56461, saving model to checkpoint/best.h5\n",
      "808/808 [==============================] - 39s 48ms/step - loss: 0.1981 - accuracy: 0.9324 - val_loss: 2.6811 - val_accuracy: 0.5646\n",
      "Epoch 10/50\n",
      "807/808 [============================>.] - ETA: 0s - loss: 0.1707 - accuracy: 0.9406\n",
      "Epoch 10: val_accuracy did not improve from 0.56461\n",
      "808/808 [==============================] - 38s 47ms/step - loss: 0.1706 - accuracy: 0.9406 - val_loss: 2.4609 - val_accuracy: 0.5329\n",
      "Epoch 11/50\n",
      "807/808 [============================>.] - ETA: 0s - loss: 0.1549 - accuracy: 0.9481\n",
      "Epoch 11: val_accuracy did not improve from 0.56461\n",
      "808/808 [==============================] - 39s 48ms/step - loss: 0.1549 - accuracy: 0.9481 - val_loss: 2.5841 - val_accuracy: 0.5263\n",
      "Epoch 12/50\n",
      "807/808 [============================>.] - ETA: 0s - loss: 0.1399 - accuracy: 0.9539\n",
      "Epoch 12: val_accuracy did not improve from 0.56461\n",
      "808/808 [==============================] - 39s 48ms/step - loss: 0.1399 - accuracy: 0.9539 - val_loss: 2.8794 - val_accuracy: 0.5183\n",
      "Epoch 13/50\n",
      "807/808 [============================>.] - ETA: 0s - loss: 0.1295 - accuracy: 0.9580\n",
      "Epoch 13: val_accuracy did not improve from 0.56461\n",
      "808/808 [==============================] - 38s 48ms/step - loss: 0.1295 - accuracy: 0.9580 - val_loss: 3.0030 - val_accuracy: 0.5528\n",
      "Epoch 14/50\n",
      "807/808 [============================>.] - ETA: 0s - loss: 0.1180 - accuracy: 0.9607\n",
      "Epoch 14: val_accuracy did not improve from 0.56461\n",
      "808/808 [==============================] - 38s 47ms/step - loss: 0.1180 - accuracy: 0.9608 - val_loss: 2.9378 - val_accuracy: 0.5350\n",
      "Epoch 15/50\n",
      "808/808 [==============================] - ETA: 0s - loss: 0.1169 - accuracy: 0.9625\n",
      "Epoch 15: val_accuracy did not improve from 0.56461\n",
      "808/808 [==============================] - 39s 48ms/step - loss: 0.1169 - accuracy: 0.9625 - val_loss: 3.3484 - val_accuracy: 0.5340\n",
      "Epoch 16/50\n",
      "807/808 [============================>.] - ETA: 0s - loss: 0.1093 - accuracy: 0.9651\n",
      "Epoch 16: val_accuracy did not improve from 0.56461\n",
      "808/808 [==============================] - 38s 47ms/step - loss: 0.1094 - accuracy: 0.9651 - val_loss: 2.9152 - val_accuracy: 0.5068\n",
      "Epoch 17/50\n",
      "808/808 [==============================] - ETA: 0s - loss: 0.0966 - accuracy: 0.9685\n",
      "Epoch 17: val_accuracy did not improve from 0.56461\n",
      "808/808 [==============================] - 39s 48ms/step - loss: 0.0966 - accuracy: 0.9685 - val_loss: 3.7163 - val_accuracy: 0.5583\n",
      "Epoch 18/50\n",
      "807/808 [============================>.] - ETA: 0s - loss: 0.0922 - accuracy: 0.9700\n",
      "Epoch 18: val_accuracy did not improve from 0.56461\n",
      "808/808 [==============================] - 39s 48ms/step - loss: 0.0923 - accuracy: 0.9700 - val_loss: 3.9769 - val_accuracy: 0.5253\n",
      "Epoch 19/50\n",
      "807/808 [============================>.] - ETA: 0s - loss: 0.0916 - accuracy: 0.9708\n",
      "Epoch 19: val_accuracy did not improve from 0.56461\n",
      "808/808 [==============================] - 40s 49ms/step - loss: 0.0916 - accuracy: 0.9708 - val_loss: 3.5700 - val_accuracy: 0.5420\n",
      "Epoch 20/50\n",
      "  5/808 [..............................] - ETA: 43s - loss: 0.0571 - accuracy: 0.9750"
     ]
    },
    {
     "ename": "KeyboardInterrupt",
     "evalue": "",
     "output_type": "error",
     "traceback": [
      "\u001b[0;31m---------------------------------------------------------------------------\u001b[0m",
      "\u001b[0;31mKeyboardInterrupt\u001b[0m                         Traceback (most recent call last)",
      "Cell \u001b[0;32mIn[31], line 1\u001b[0m\n\u001b[0;32m----> 1\u001b[0m mymodel\u001b[39m.\u001b[39;49mfit(imgTrain, emoTrain, epochs \u001b[39m=\u001b[39;49m \u001b[39m50\u001b[39;49m, validation_split\u001b[39m=\u001b[39;49m\u001b[39m0.1\u001b[39;49m,callbacks\u001b[39m=\u001b[39;49m call_back)\n",
      "File \u001b[0;32m~/.local/lib/python3.10/site-packages/keras/utils/traceback_utils.py:65\u001b[0m, in \u001b[0;36mfilter_traceback.<locals>.error_handler\u001b[0;34m(*args, **kwargs)\u001b[0m\n\u001b[1;32m     63\u001b[0m filtered_tb \u001b[39m=\u001b[39m \u001b[39mNone\u001b[39;00m\n\u001b[1;32m     64\u001b[0m \u001b[39mtry\u001b[39;00m:\n\u001b[0;32m---> 65\u001b[0m     \u001b[39mreturn\u001b[39;00m fn(\u001b[39m*\u001b[39;49margs, \u001b[39m*\u001b[39;49m\u001b[39m*\u001b[39;49mkwargs)\n\u001b[1;32m     66\u001b[0m \u001b[39mexcept\u001b[39;00m \u001b[39mException\u001b[39;00m \u001b[39mas\u001b[39;00m e:\n\u001b[1;32m     67\u001b[0m     filtered_tb \u001b[39m=\u001b[39m _process_traceback_frames(e\u001b[39m.\u001b[39m__traceback__)\n",
      "File \u001b[0;32m~/.local/lib/python3.10/site-packages/keras/engine/training.py:1650\u001b[0m, in \u001b[0;36mModel.fit\u001b[0;34m(self, x, y, batch_size, epochs, verbose, callbacks, validation_split, validation_data, shuffle, class_weight, sample_weight, initial_epoch, steps_per_epoch, validation_steps, validation_batch_size, validation_freq, max_queue_size, workers, use_multiprocessing)\u001b[0m\n\u001b[1;32m   1642\u001b[0m \u001b[39mwith\u001b[39;00m tf\u001b[39m.\u001b[39mprofiler\u001b[39m.\u001b[39mexperimental\u001b[39m.\u001b[39mTrace(\n\u001b[1;32m   1643\u001b[0m     \u001b[39m\"\u001b[39m\u001b[39mtrain\u001b[39m\u001b[39m\"\u001b[39m,\n\u001b[1;32m   1644\u001b[0m     epoch_num\u001b[39m=\u001b[39mepoch,\n\u001b[0;32m   (...)\u001b[0m\n\u001b[1;32m   1647\u001b[0m     _r\u001b[39m=\u001b[39m\u001b[39m1\u001b[39m,\n\u001b[1;32m   1648\u001b[0m ):\n\u001b[1;32m   1649\u001b[0m     callbacks\u001b[39m.\u001b[39mon_train_batch_begin(step)\n\u001b[0;32m-> 1650\u001b[0m     tmp_logs \u001b[39m=\u001b[39m \u001b[39mself\u001b[39;49m\u001b[39m.\u001b[39;49mtrain_function(iterator)\n\u001b[1;32m   1651\u001b[0m     \u001b[39mif\u001b[39;00m data_handler\u001b[39m.\u001b[39mshould_sync:\n\u001b[1;32m   1652\u001b[0m         context\u001b[39m.\u001b[39masync_wait()\n",
      "File \u001b[0;32m~/.local/lib/python3.10/site-packages/tensorflow/python/util/traceback_utils.py:150\u001b[0m, in \u001b[0;36mfilter_traceback.<locals>.error_handler\u001b[0;34m(*args, **kwargs)\u001b[0m\n\u001b[1;32m    148\u001b[0m filtered_tb \u001b[39m=\u001b[39m \u001b[39mNone\u001b[39;00m\n\u001b[1;32m    149\u001b[0m \u001b[39mtry\u001b[39;00m:\n\u001b[0;32m--> 150\u001b[0m   \u001b[39mreturn\u001b[39;00m fn(\u001b[39m*\u001b[39;49margs, \u001b[39m*\u001b[39;49m\u001b[39m*\u001b[39;49mkwargs)\n\u001b[1;32m    151\u001b[0m \u001b[39mexcept\u001b[39;00m \u001b[39mException\u001b[39;00m \u001b[39mas\u001b[39;00m e:\n\u001b[1;32m    152\u001b[0m   filtered_tb \u001b[39m=\u001b[39m _process_traceback_frames(e\u001b[39m.\u001b[39m__traceback__)\n",
      "File \u001b[0;32m~/.local/lib/python3.10/site-packages/tensorflow/python/eager/polymorphic_function/polymorphic_function.py:880\u001b[0m, in \u001b[0;36mFunction.__call__\u001b[0;34m(self, *args, **kwds)\u001b[0m\n\u001b[1;32m    877\u001b[0m compiler \u001b[39m=\u001b[39m \u001b[39m\"\u001b[39m\u001b[39mxla\u001b[39m\u001b[39m\"\u001b[39m \u001b[39mif\u001b[39;00m \u001b[39mself\u001b[39m\u001b[39m.\u001b[39m_jit_compile \u001b[39melse\u001b[39;00m \u001b[39m\"\u001b[39m\u001b[39mnonXla\u001b[39m\u001b[39m\"\u001b[39m\n\u001b[1;32m    879\u001b[0m \u001b[39mwith\u001b[39;00m OptionalXlaContext(\u001b[39mself\u001b[39m\u001b[39m.\u001b[39m_jit_compile):\n\u001b[0;32m--> 880\u001b[0m   result \u001b[39m=\u001b[39m \u001b[39mself\u001b[39;49m\u001b[39m.\u001b[39;49m_call(\u001b[39m*\u001b[39;49margs, \u001b[39m*\u001b[39;49m\u001b[39m*\u001b[39;49mkwds)\n\u001b[1;32m    882\u001b[0m new_tracing_count \u001b[39m=\u001b[39m \u001b[39mself\u001b[39m\u001b[39m.\u001b[39mexperimental_get_tracing_count()\n\u001b[1;32m    883\u001b[0m without_tracing \u001b[39m=\u001b[39m (tracing_count \u001b[39m==\u001b[39m new_tracing_count)\n",
      "File \u001b[0;32m~/.local/lib/python3.10/site-packages/tensorflow/python/eager/polymorphic_function/polymorphic_function.py:912\u001b[0m, in \u001b[0;36mFunction._call\u001b[0;34m(self, *args, **kwds)\u001b[0m\n\u001b[1;32m    909\u001b[0m   \u001b[39mself\u001b[39m\u001b[39m.\u001b[39m_lock\u001b[39m.\u001b[39mrelease()\n\u001b[1;32m    910\u001b[0m   \u001b[39m# In this case we have created variables on the first call, so we run the\u001b[39;00m\n\u001b[1;32m    911\u001b[0m   \u001b[39m# defunned version which is guaranteed to never create variables.\u001b[39;00m\n\u001b[0;32m--> 912\u001b[0m   \u001b[39mreturn\u001b[39;00m \u001b[39mself\u001b[39;49m\u001b[39m.\u001b[39;49m_no_variable_creation_fn(\u001b[39m*\u001b[39;49margs, \u001b[39m*\u001b[39;49m\u001b[39m*\u001b[39;49mkwds)  \u001b[39m# pylint: disable=not-callable\u001b[39;00m\n\u001b[1;32m    913\u001b[0m \u001b[39melif\u001b[39;00m \u001b[39mself\u001b[39m\u001b[39m.\u001b[39m_variable_creation_fn \u001b[39mis\u001b[39;00m \u001b[39mnot\u001b[39;00m \u001b[39mNone\u001b[39;00m:\n\u001b[1;32m    914\u001b[0m   \u001b[39m# Release the lock early so that multiple threads can perform the call\u001b[39;00m\n\u001b[1;32m    915\u001b[0m   \u001b[39m# in parallel.\u001b[39;00m\n\u001b[1;32m    916\u001b[0m   \u001b[39mself\u001b[39m\u001b[39m.\u001b[39m_lock\u001b[39m.\u001b[39mrelease()\n",
      "File \u001b[0;32m~/.local/lib/python3.10/site-packages/tensorflow/python/eager/polymorphic_function/tracing_compiler.py:134\u001b[0m, in \u001b[0;36mTracingCompiler.__call__\u001b[0;34m(self, *args, **kwargs)\u001b[0m\n\u001b[1;32m    131\u001b[0m \u001b[39mwith\u001b[39;00m \u001b[39mself\u001b[39m\u001b[39m.\u001b[39m_lock:\n\u001b[1;32m    132\u001b[0m   (concrete_function,\n\u001b[1;32m    133\u001b[0m    filtered_flat_args) \u001b[39m=\u001b[39m \u001b[39mself\u001b[39m\u001b[39m.\u001b[39m_maybe_define_function(args, kwargs)\n\u001b[0;32m--> 134\u001b[0m \u001b[39mreturn\u001b[39;00m concrete_function\u001b[39m.\u001b[39;49m_call_flat(\n\u001b[1;32m    135\u001b[0m     filtered_flat_args, captured_inputs\u001b[39m=\u001b[39;49mconcrete_function\u001b[39m.\u001b[39;49mcaptured_inputs)\n",
      "File \u001b[0;32m~/.local/lib/python3.10/site-packages/tensorflow/python/eager/polymorphic_function/monomorphic_function.py:1745\u001b[0m, in \u001b[0;36mConcreteFunction._call_flat\u001b[0;34m(self, args, captured_inputs, cancellation_manager)\u001b[0m\n\u001b[1;32m   1741\u001b[0m possible_gradient_type \u001b[39m=\u001b[39m gradients_util\u001b[39m.\u001b[39mPossibleTapeGradientTypes(args)\n\u001b[1;32m   1742\u001b[0m \u001b[39mif\u001b[39;00m (possible_gradient_type \u001b[39m==\u001b[39m gradients_util\u001b[39m.\u001b[39mPOSSIBLE_GRADIENT_TYPES_NONE\n\u001b[1;32m   1743\u001b[0m     \u001b[39mand\u001b[39;00m executing_eagerly):\n\u001b[1;32m   1744\u001b[0m   \u001b[39m# No tape is watching; skip to running the function.\u001b[39;00m\n\u001b[0;32m-> 1745\u001b[0m   \u001b[39mreturn\u001b[39;00m \u001b[39mself\u001b[39m\u001b[39m.\u001b[39m_build_call_outputs(\u001b[39mself\u001b[39;49m\u001b[39m.\u001b[39;49m_inference_function\u001b[39m.\u001b[39;49mcall(\n\u001b[1;32m   1746\u001b[0m       ctx, args, cancellation_manager\u001b[39m=\u001b[39;49mcancellation_manager))\n\u001b[1;32m   1747\u001b[0m forward_backward \u001b[39m=\u001b[39m \u001b[39mself\u001b[39m\u001b[39m.\u001b[39m_select_forward_and_backward_functions(\n\u001b[1;32m   1748\u001b[0m     args,\n\u001b[1;32m   1749\u001b[0m     possible_gradient_type,\n\u001b[1;32m   1750\u001b[0m     executing_eagerly)\n\u001b[1;32m   1751\u001b[0m forward_function, args_with_tangents \u001b[39m=\u001b[39m forward_backward\u001b[39m.\u001b[39mforward()\n",
      "File \u001b[0;32m~/.local/lib/python3.10/site-packages/tensorflow/python/eager/polymorphic_function/monomorphic_function.py:378\u001b[0m, in \u001b[0;36m_EagerDefinedFunction.call\u001b[0;34m(self, ctx, args, cancellation_manager)\u001b[0m\n\u001b[1;32m    376\u001b[0m \u001b[39mwith\u001b[39;00m _InterpolateFunctionError(\u001b[39mself\u001b[39m):\n\u001b[1;32m    377\u001b[0m   \u001b[39mif\u001b[39;00m cancellation_manager \u001b[39mis\u001b[39;00m \u001b[39mNone\u001b[39;00m:\n\u001b[0;32m--> 378\u001b[0m     outputs \u001b[39m=\u001b[39m execute\u001b[39m.\u001b[39;49mexecute(\n\u001b[1;32m    379\u001b[0m         \u001b[39mstr\u001b[39;49m(\u001b[39mself\u001b[39;49m\u001b[39m.\u001b[39;49msignature\u001b[39m.\u001b[39;49mname),\n\u001b[1;32m    380\u001b[0m         num_outputs\u001b[39m=\u001b[39;49m\u001b[39mself\u001b[39;49m\u001b[39m.\u001b[39;49m_num_outputs,\n\u001b[1;32m    381\u001b[0m         inputs\u001b[39m=\u001b[39;49margs,\n\u001b[1;32m    382\u001b[0m         attrs\u001b[39m=\u001b[39;49mattrs,\n\u001b[1;32m    383\u001b[0m         ctx\u001b[39m=\u001b[39;49mctx)\n\u001b[1;32m    384\u001b[0m   \u001b[39melse\u001b[39;00m:\n\u001b[1;32m    385\u001b[0m     outputs \u001b[39m=\u001b[39m execute\u001b[39m.\u001b[39mexecute_with_cancellation(\n\u001b[1;32m    386\u001b[0m         \u001b[39mstr\u001b[39m(\u001b[39mself\u001b[39m\u001b[39m.\u001b[39msignature\u001b[39m.\u001b[39mname),\n\u001b[1;32m    387\u001b[0m         num_outputs\u001b[39m=\u001b[39m\u001b[39mself\u001b[39m\u001b[39m.\u001b[39m_num_outputs,\n\u001b[0;32m   (...)\u001b[0m\n\u001b[1;32m    390\u001b[0m         ctx\u001b[39m=\u001b[39mctx,\n\u001b[1;32m    391\u001b[0m         cancellation_manager\u001b[39m=\u001b[39mcancellation_manager)\n",
      "File \u001b[0;32m~/.local/lib/python3.10/site-packages/tensorflow/python/eager/execute.py:52\u001b[0m, in \u001b[0;36mquick_execute\u001b[0;34m(op_name, num_outputs, inputs, attrs, ctx, name)\u001b[0m\n\u001b[1;32m     50\u001b[0m \u001b[39mtry\u001b[39;00m:\n\u001b[1;32m     51\u001b[0m   ctx\u001b[39m.\u001b[39mensure_initialized()\n\u001b[0;32m---> 52\u001b[0m   tensors \u001b[39m=\u001b[39m pywrap_tfe\u001b[39m.\u001b[39;49mTFE_Py_Execute(ctx\u001b[39m.\u001b[39;49m_handle, device_name, op_name,\n\u001b[1;32m     53\u001b[0m                                       inputs, attrs, num_outputs)\n\u001b[1;32m     54\u001b[0m \u001b[39mexcept\u001b[39;00m core\u001b[39m.\u001b[39m_NotOkStatusException \u001b[39mas\u001b[39;00m e:\n\u001b[1;32m     55\u001b[0m   \u001b[39mif\u001b[39;00m name \u001b[39mis\u001b[39;00m \u001b[39mnot\u001b[39;00m \u001b[39mNone\u001b[39;00m:\n",
      "\u001b[0;31mKeyboardInterrupt\u001b[0m: "
     ]
    }
   ],
   "source": [
    "mymodel.fit(imgTrain, emoTrain, epochs = 50, validation_split=0.1,callbacks= call_back)"
   ]
  }
 ],
 "metadata": {
  "kernelspec": {
   "display_name": "Python 3",
   "language": "python",
   "name": "python3"
  },
  "language_info": {
   "codemirror_mode": {
    "name": "ipython",
    "version": 3
   },
   "file_extension": ".py",
   "mimetype": "text/x-python",
   "name": "python",
   "nbconvert_exporter": "python",
   "pygments_lexer": "ipython3",
   "version": "3.10.6"
  },
  "orig_nbformat": 4,
  "vscode": {
   "interpreter": {
    "hash": "916dbcbb3f70747c44a77c7bcd40155683ae19c65e1c03b4aa3499c5328201f1"
   }
  }
 },
 "nbformat": 4,
 "nbformat_minor": 2
}
