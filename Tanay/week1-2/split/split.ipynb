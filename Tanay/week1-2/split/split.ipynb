{
 "cells": [
  {
   "cell_type": "code",
   "execution_count": 3,
   "metadata": {},
   "outputs": [],
   "source": [
    "import pandas"
   ]
  },
  {
   "cell_type": "code",
   "execution_count": 20,
   "metadata": {},
   "outputs": [
    {
     "name": "stdout",
     "output_type": "stream",
     "text": [
      "700\n",
      "        x          y\n",
      "0    24.0  21.549452\n",
      "1    50.0  47.464463\n",
      "2    15.0  17.218656\n",
      "3    38.0  36.586398\n",
      "4    87.0  87.288984\n",
      "..    ...        ...\n",
      "695  58.0  58.595006\n",
      "696  93.0  94.625094\n",
      "697  82.0  88.603770\n",
      "698  66.0  63.648685\n",
      "699  97.0  94.975266\n",
      "\n",
      "[700 rows x 2 columns]\n",
      "        x          y\n",
      "700  77.0  79.775152\n",
      "701  21.0  23.177279\n",
      "702  22.0  25.609262\n",
      "703  20.0  17.857388\n",
      "704  36.0  41.849864\n",
      "..    ...        ...\n",
      "845  63.0  63.283124\n",
      "846  99.0  98.030177\n",
      "847  60.0  63.193544\n",
      "848  35.0  34.853482\n",
      "849   2.0  -2.819914\n",
      "\n",
      "[150 rows x 2 columns]\n",
      "HI\n",
      "        x          y\n",
      "850  60.0  59.831397\n",
      "851  32.0  29.385050\n",
      "852  94.0  97.001484\n",
      "853  84.0  85.186573\n",
      "854  63.0  61.740632\n",
      "..    ...        ...\n",
      "995  71.0  68.545888\n",
      "996  46.0  47.334876\n",
      "997  55.0  54.090637\n",
      "998  62.0  63.297171\n",
      "999  47.0  52.459467\n",
      "\n",
      "[150 rows x 2 columns]\n"
     ]
    }
   ],
   "source": [
    "data = pandas.read_csv(\"split.csv\")\n",
    "size = data.shape[0]\n",
    "trainsize = int(size*0.7)\n",
    "validsize = int(size*0.85)\n",
    "train = data[:trainsize]\n",
    "print(train)\n",
    "valid = data[trainsize:validsize]\n",
    "\n",
    "print(valid)\n",
    "test = data[validsize: size]\n",
    "\n",
    "print(test)\n"
   ]
  }
 ],
 "metadata": {
  "kernelspec": {
   "display_name": "Python 3.10.6 64-bit",
   "language": "python",
   "name": "python3"
  },
  "language_info": {
   "codemirror_mode": {
    "name": "ipython",
    "version": 3
   },
   "file_extension": ".py",
   "mimetype": "text/x-python",
   "name": "python",
   "nbconvert_exporter": "python",
   "pygments_lexer": "ipython3",
   "version": "3.10.6"
  },
  "orig_nbformat": 4,
  "vscode": {
   "interpreter": {
    "hash": "916dbcbb3f70747c44a77c7bcd40155683ae19c65e1c03b4aa3499c5328201f1"
   }
  }
 },
 "nbformat": 4,
 "nbformat_minor": 2
}
