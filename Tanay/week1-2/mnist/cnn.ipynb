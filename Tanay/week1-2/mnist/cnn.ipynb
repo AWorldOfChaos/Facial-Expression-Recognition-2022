{
 "cells": [
  {
   "cell_type": "code",
   "execution_count": 88,
   "metadata": {},
   "outputs": [],
   "source": [
    "from pathlib import Path\n",
    "import requests\n",
    "import pickle\n",
    "import gzip\n",
    "import matplotlib.pyplot as plt\n",
    "import numpy as np\n",
    "import torch\n",
    "import math\n",
    "from IPython.core.debugger import set_trace"
   ]
  },
  {
   "cell_type": "code",
   "execution_count": 89,
   "metadata": {},
   "outputs": [],
   "source": [
    "#Reading Data\n",
    "DATA_PATH = Path(\"data\")\n",
    "PATH = DATA_PATH / \"mnist\"\n",
    "\n",
    "PATH.mkdir(parents=True, exist_ok=True)\n",
    "\n",
    "URL = \"https://github.com/pytorch/tutorials/raw/main/_static/\"\n",
    "FILENAME = \"mnist.pkl.gz\"\n",
    "\n",
    "if not (PATH / FILENAME).exists():\n",
    "        content = requests.get(URL + FILENAME).content\n",
    "        (PATH / FILENAME).open(\"wb\").write(content)\n",
    "\n",
    "with gzip.open((PATH / FILENAME).as_posix(), \"rb\") as f:\n",
    "        ((x_train, y_train), (x_valid, y_valid), _) = pickle.load(f, encoding=\"latin-1\")"
   ]
  },
  {
   "cell_type": "code",
   "execution_count": 90,
   "metadata": {},
   "outputs": [],
   "source": [
    "#Convert data to tensor\n",
    "x_train, y_train, x_valid, y_valid = map(\n",
    "    torch.tensor, (x_train, y_train, x_valid, y_valid)\n",
    ")\n",
    "n = x_train.shape[0]"
   ]
  },
  {
   "cell_type": "code",
   "execution_count": 91,
   "metadata": {},
   "outputs": [],
   "source": [
    "weights = torch.randn(784, 10) / math.sqrt(784)#Random weights for the layers\n",
    "weights.requires_grad_()#Backpropogation ke lie\n",
    "bias = torch.zeros(10, requires_grad=True) #same as above, for back prop"
   ]
  },
  {
   "cell_type": "code",
   "execution_count": 92,
   "metadata": {},
   "outputs": [],
   "source": [
    "def log_softmax(x):#Using log of the softmax function as our activation function\n",
    "    return x - x.exp().sum(-1).log().unsqueeze(-1)\n",
    "\n",
    "def model(xb):#Calculating the values of the next layer\n",
    "    return log_softmax(xb @ weights + bias)\n",
    "\n",
    "bs = 64 #batchsize for training\n",
    "xb = x_train[0:bs]\n",
    "preds = model(xb)#without any training\n"
   ]
  },
  {
   "cell_type": "code",
   "execution_count": 93,
   "metadata": {},
   "outputs": [
    {
     "name": "stdout",
     "output_type": "stream",
     "text": [
      "tensor(2.2896, grad_fn=<NegBackward0>)\n"
     ]
    }
   ],
   "source": [
    "def negloglike(input, target):#loss function generation, gives the mean, the inputs are the individual log likelihood values\n",
    "    return -input[range(target.shape[0]),target].mean()\n",
    "\n",
    "loss_function = negloglike\n",
    "\n",
    "yb = y_train[0:bs]#training data\n",
    "\n",
    "print(loss_function(preds,yb))"
   ]
  },
  {
   "cell_type": "code",
   "execution_count": 94,
   "metadata": {},
   "outputs": [
    {
     "name": "stdout",
     "output_type": "stream",
     "text": [
      "tensor(0.1562)\n"
     ]
    }
   ],
   "source": [
    "def accuracy(out, yb):#Checking the accuracy\n",
    "    preds = torch.argmax(out, dim=1)\n",
    "    return (preds == yb).float().mean()\n",
    "\n",
    "print(accuracy(preds,yb))"
   ]
  },
  {
   "cell_type": "code",
   "execution_count": 95,
   "metadata": {},
   "outputs": [],
   "source": [
    "lr = 0.5# learning rate\n",
    "\n",
    "for j in range(20):#training twice\n",
    "    for i in range((n - 1) // bs + 1):\n",
    "        #         set_trace()\n",
    "        xbatch = x_train[i*bs:i*bs+bs]# batch in which we are training\n",
    "        ybatch = y_train[i*bs:i*bs+bs]\n",
    "        prediction = model(xbatch)#Prediciton\n",
    "        loss = loss_function(prediction, ybatch)#calculation of loss function\n",
    "\n",
    "        loss.backward()#Updating the gradients, backpropogation\n",
    "        with torch.no_grad():#Gradient descent for changing the weights\n",
    "            weights -= weights.grad * lr\n",
    "            bias -= bias.grad * lr\n",
    "            weights.grad.zero_()#setting gradient to 0 otherwise it causes issues\n",
    "            bias.grad.zero_()\n",
    "\n"
   ]
  },
  {
   "cell_type": "code",
   "execution_count": 96,
   "metadata": {},
   "outputs": [
    {
     "name": "stdout",
     "output_type": "stream",
     "text": [
      "tensor(0.2818, grad_fn=<NegBackward0>) tensor(0.9249)\n"
     ]
    }
   ],
   "source": [
    "print(loss_function(model(x_valid), y_valid), accuracy(model(x_valid), y_valid))"
   ]
  }
 ],
 "metadata": {
  "kernelspec": {
   "display_name": "Python 3",
   "language": "python",
   "name": "python3"
  },
  "language_info": {
   "codemirror_mode": {
    "name": "ipython",
    "version": 3
   },
   "file_extension": ".py",
   "mimetype": "text/x-python",
   "name": "python",
   "nbconvert_exporter": "python",
   "pygments_lexer": "ipython3",
   "version": "3.10.6"
  },
  "orig_nbformat": 4,
  "vscode": {
   "interpreter": {
    "hash": "916dbcbb3f70747c44a77c7bcd40155683ae19c65e1c03b4aa3499c5328201f1"
   }
  }
 },
 "nbformat": 4,
 "nbformat_minor": 2
}
